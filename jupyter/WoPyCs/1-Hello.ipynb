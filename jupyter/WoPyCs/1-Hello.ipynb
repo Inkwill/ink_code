{
 "cells": [
  {
   "cell_type": "markdown",
   "id": "43b9f295-a049-40d1-b19b-f890da96dfcd",
   "metadata": {},
   "source": [
    "## hello\n"
   ]
  },
  {
   "cell_type": "code",
   "execution_count": 1,
   "id": "3491224b-33db-443b-9710-d37d91dc4a38",
   "metadata": {},
   "outputs": [
    {
     "name": "stdout",
     "output_type": "stream",
     "text": [
      "Hello Wolfram!\n"
     ]
    }
   ],
   "source": [
    "(*wl*)\n",
    "Print[\"Hello Wolfram!\"]"
   ]
  },
  {
   "cell_type": "code",
   "execution_count": 1,
   "id": "1a356a46-1d74-451c-bc86-8846f782025f",
   "metadata": {},
   "outputs": [
    {
     "name": "stdout",
     "output_type": "stream",
     "text": [
      "hello python!\n"
     ]
    }
   ],
   "source": [
    "# py\n",
    "print(\"hello python!\")"
   ]
  },
  {
   "cell_type": "code",
   "execution_count": 1,
   "id": "80da4f5e-da0c-4941-957b-ef9a4124f9dc",
   "metadata": {},
   "outputs": [
    {
     "data": {
      "text/html": [
       "\r\n",
       "<div>\r\n",
       "    <div id='dotnet-interactive-this-cell-7360.Microsoft.DotNet.Interactive.Http.HttpPort' style='display: none'>\r\n",
       "        The below script needs to be able to find the current output cell; this is an easy method to get it.\r\n",
       "    </div>\r\n",
       "    <script type='text/javascript'>\r\n",
       "async function probeAddresses(probingAddresses) {\r\n",
       "    function timeout(ms, promise) {\r\n",
       "        return new Promise(function (resolve, reject) {\r\n",
       "            setTimeout(function () {\r\n",
       "                reject(new Error('timeout'))\r\n",
       "            }, ms)\r\n",
       "            promise.then(resolve, reject)\r\n",
       "        })\r\n",
       "    }\r\n",
       "\r\n",
       "    if (Array.isArray(probingAddresses)) {\r\n",
       "        for (let i = 0; i < probingAddresses.length; i++) {\r\n",
       "\r\n",
       "            let rootUrl = probingAddresses[i];\r\n",
       "\r\n",
       "            if (!rootUrl.endsWith('/')) {\r\n",
       "                rootUrl = `${rootUrl}/`;\r\n",
       "            }\r\n",
       "\r\n",
       "            try {\r\n",
       "                let response = await timeout(1000, fetch(`${rootUrl}discovery`, {\r\n",
       "                    method: 'POST',\r\n",
       "                    cache: 'no-cache',\r\n",
       "                    mode: 'cors',\r\n",
       "                    timeout: 1000,\r\n",
       "                    headers: {\r\n",
       "                        'Content-Type': 'text/plain'\r\n",
       "                    },\r\n",
       "                    body: probingAddresses[i]\r\n",
       "                }));\r\n",
       "\r\n",
       "                if (response.status == 200) {\r\n",
       "                    return rootUrl;\r\n",
       "                }\r\n",
       "            }\r\n",
       "            catch (e) { }\r\n",
       "        }\r\n",
       "    }\r\n",
       "}\r\n",
       "\r\n",
       "function loadDotnetInteractiveApi() {\r\n",
       "    probeAddresses([\"http://10.0.236.10:2048/\", \"http://192.168.31.77:2048/\", \"http://127.0.0.1:2048/\"])\r\n",
       "        .then((root) => {\r\n",
       "        // use probing to find host url and api resources\r\n",
       "        // load interactive helpers and language services\r\n",
       "        let dotnetInteractiveRequire = require.config({\r\n",
       "        context: '7360.Microsoft.DotNet.Interactive.Http.HttpPort',\r\n",
       "                paths:\r\n",
       "            {\r\n",
       "                'dotnet-interactive': `${root}resources`\r\n",
       "                }\r\n",
       "        }) || require;\r\n",
       "\r\n",
       "            window.dotnetInteractiveRequire = dotnetInteractiveRequire;\r\n",
       "\r\n",
       "            window.configureRequireFromExtension = function(extensionName, extensionCacheBuster) {\r\n",
       "                let paths = {};\r\n",
       "                paths[extensionName] = `${root}extensions/${extensionName}/resources/`;\r\n",
       "                \r\n",
       "                let internalRequire = require.config({\r\n",
       "                    context: extensionCacheBuster,\r\n",
       "                    paths: paths,\r\n",
       "                    urlArgs: `cacheBuster=${extensionCacheBuster}`\r\n",
       "                    }) || require;\r\n",
       "\r\n",
       "                return internalRequire\r\n",
       "            };\r\n",
       "        \r\n",
       "            dotnetInteractiveRequire([\r\n",
       "                    'dotnet-interactive/dotnet-interactive'\r\n",
       "                ],\r\n",
       "                function (dotnet) {\r\n",
       "                    dotnet.init(window);\r\n",
       "                },\r\n",
       "                function (error) {\r\n",
       "                    console.log(error);\r\n",
       "                }\r\n",
       "            );\r\n",
       "        })\r\n",
       "        .catch(error => {console.log(error);});\r\n",
       "    }\r\n",
       "\r\n",
       "// ensure `require` is available globally\r\n",
       "if ((typeof(require) !==  typeof(Function)) || (typeof(require.config) !== typeof(Function))) {\r\n",
       "    let require_script = document.createElement('script');\r\n",
       "    require_script.setAttribute('src', 'https://cdnjs.cloudflare.com/ajax/libs/require.js/2.3.6/require.min.js');\r\n",
       "    require_script.setAttribute('type', 'text/javascript');\r\n",
       "    \r\n",
       "    \r\n",
       "    require_script.onload = function() {\r\n",
       "        loadDotnetInteractiveApi();\r\n",
       "    };\r\n",
       "\r\n",
       "    document.getElementsByTagName('head')[0].appendChild(require_script);\r\n",
       "}\r\n",
       "else {\r\n",
       "    loadDotnetInteractiveApi();\r\n",
       "}\r\n",
       "\r\n",
       "    </script>\r\n",
       "</div>"
      ]
     },
     "metadata": {},
     "output_type": "display_data"
    },
    {
     "name": "stdout",
     "output_type": "stream",
     "text": [
      "Hello C#!"
     ]
    }
   ],
   "source": [
    "// cs\n",
    "Console.Write(\"Hello C#!\");"
   ]
  },
  {
   "cell_type": "markdown",
   "id": "1fee583d-d1b7-498c-abdf-e13cc5d92fb5",
   "metadata": {},
   "source": [
    "## namespace"
   ]
  },
  {
   "cell_type": "markdown",
   "id": "ae31d3a9-2e47-4b0e-a240-5d9529d7e631",
   "metadata": {},
   "source": [
    "[wl:Namespace Management](https://reference.wolfram.com/language/guide/NamespaceManagement.html)\n"
   ]
  },
  {
   "cell_type": "code",
   "execution_count": 2,
   "id": "f63dafa2-1d97-4367-9428-2e09291e8f7b",
   "metadata": {},
   "outputs": [
    {
     "data": {
      "text/html": [
       "<div><img alt=\"Output\" src=\"data:image/png;base64,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\"></div>"
      ],
      "text/plain": [
       "{Global`, {WolframLanguageForJupyter`, System`, Global`}, $$ContextAliases}"
      ]
     },
     "execution_count": 2,
     "metadata": {
      "text/html": [],
      "text/plain": []
     },
     "output_type": "execute_result"
    }
   ],
   "source": [
    "{$Context,$ContextPath,$$ContextAliases}"
   ]
  },
  {
   "cell_type": "code",
   "execution_count": null,
   "id": "91a17376-5098-40ca-8cc2-703efb9fd3af",
   "metadata": {},
   "outputs": [],
   "source": []
  }
 ],
 "metadata": {
  "kernelspec": {
   "display_name": "Wolfram Language 13.3",
   "language": "Wolfram Language",
   "name": "wolframlanguage13.3"
  },
  "language_info": {
   "codemirror_mode": "mathematica",
   "file_extension": ".m",
   "mimetype": "application/vnd.wolfram.m",
   "name": "Wolfram Language",
   "pygments_lexer": "mathematica",
   "version": "12.0"
  }
 },
 "nbformat": 4,
 "nbformat_minor": 5
}
