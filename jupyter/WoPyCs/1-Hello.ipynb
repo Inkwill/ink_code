{
 "cells": [
  {
   "cell_type": "markdown",
   "id": "43b9f295-a049-40d1-b19b-f890da96dfcd",
   "metadata": {},
   "source": [
    "## hello\n"
   ]
  },
  {
   "cell_type": "code",
   "execution_count": null,
   "id": "841e654f",
   "metadata": {
    "dotnet_interactive": {
     "language": "csharp"
    },
    "polyglot_notebook": {
     "kernelName": "csharp"
    },
    "vscode": {
     "languageId": "polyglot-notebook"
    }
   },
   "outputs": [],
   "source": [
    "(*wl*)\n",
    "Print[\"Hello Wolfram!\"]"
   ]
  },
  {
   "cell_type": "code",
   "execution_count": null,
   "id": "f6787820",
   "metadata": {
    "dotnet_interactive": {
     "language": "csharp"
    },
    "polyglot_notebook": {
     "kernelName": "csharp"
    },
    "vscode": {
     "languageId": "polyglot-notebook"
    }
   },
   "outputs": [],
   "source": [
    "# py\n",
    "print(\"hello python!\")"
   ]
  },
  {
   "cell_type": "code",
   "execution_count": 10,
   "id": "ea66f248",
   "metadata": {
    "dotnet_interactive": {
     "language": "csharp"
    },
    "polyglot_notebook": {
     "kernelName": "csharp"
    },
    "vscode": {
     "languageId": "polyglot-notebook"
    }
   },
   "outputs": [
    {
     "name": "stdout",
     "output_type": "stream",
     "text": [
      "4"
     ]
    }
   ],
   "source": [
    "// cs\n",
    "//Console.Write(\"Hello C#!\");\n",
    "public class Table {\n",
    "    public string[][][] table;\n",
    "    public Table(int num){\n",
    "        table = new string[num][][];\n",
    "        table[0] = new string[num+1][];\n",
    "        table[0][0] = new string[num+2];\n",
    "    }\n",
    "}\n",
    "Table t = new Table(2); \n",
    "Console.Write(t.table[0][0].Length); "
   ]
  },
  {
   "cell_type": "markdown",
   "id": "1fee583d-d1b7-498c-abdf-e13cc5d92fb5",
   "metadata": {},
   "source": [
    "## namespace"
   ]
  },
  {
   "cell_type": "markdown",
   "id": "ae31d3a9-2e47-4b0e-a240-5d9529d7e631",
   "metadata": {},
   "source": [
    "#### wl\n",
    "* [wl:Namespace Management](https://reference.wolfram.com/language/guide/NamespaceManagement.html)\n",
    "* [wl:ModularityAndTheNamingOfThings](http://reference.wolfram.com/language/tutorial/ModularityAndTheNamingOfThings.html)\n",
    "\n",
    "        Function[{x,…},body]\t        local parameters\n",
    "        lhs->rhs and lhs:>rhs\t        local pattern names\n",
    "        lhs=rhs and lhs:=rhs\t        local pattern names\n",
    "        With[{x=x0,…},body]\t        local constants\n",
    "        Module[{x,…},body]\t        local variables\n",
    "        \n",
    "        Block[{x,y,…},body]\t        evaluate body using local values for x,y,…\n",
    "        Block[{x=x0,y=y0,…},body]\tassign initial values to x,y,…"
   ]
  },
  {
   "cell_type": "code",
   "execution_count": null,
   "id": "93894c80",
   "metadata": {
    "dotnet_interactive": {
     "language": "csharp"
    },
    "polyglot_notebook": {
     "kernelName": "csharp"
    },
    "vscode": {
     "languageId": "polyglot-notebook"
    }
   },
   "outputs": [],
   "source": [
    "With[{x = a}, Function[{a}, a + x]]"
   ]
  },
  {
   "cell_type": "markdown",
   "id": "68814710",
   "metadata": {},
   "source": [
    "## Reference of Function"
   ]
  },
  {
   "cell_type": "markdown",
   "id": "f9c30092",
   "metadata": {},
   "source": [
    "#### C# : Delegate"
   ]
  },
  {
   "cell_type": "code",
   "execution_count": 18,
   "metadata": {
    "dotnet_interactive": {
     "language": "csharp"
    },
    "polyglot_notebook": {
     "kernelName": "csharp"
    },
    "vscode": {
     "languageId": "polyglot-notebook"
    }
   },
   "outputs": [
    {
     "name": "stdout",
     "output_type": "stream",
     "text": [
      "DTest run :Func1!\n",
      "FunctionNum = 3\n",
      "Hello!\n"
     ]
    }
   ],
   "source": [
    "public delegate void Action();\n",
    "public class DTester{\n",
    "\n",
    "    static Action testAction;\n",
    "    public Action Functions {\n",
    "\n",
    "        get { return testAction;}\n",
    "        set { testAction = value;}\n",
    "    }\n",
    "    static DTester(){\n",
    "\n",
    "        testAction = new Action(TestFunc1);\n",
    "    }\n",
    "\n",
    "    public DTester(){\n",
    "\n",
    "        testAction += new Action(CurFunctionNum);\n",
    "    }\n",
    "    public static void TestFunc1(){\n",
    "\n",
    "        Console.WriteLine(\"DTest run :Func1!\");\n",
    "    }\n",
    "\n",
    "    public void CurFunctionNum(){\n",
    "\n",
    "        Console.WriteLine(\"FunctionNum = {0}\",testAction.GetInvocationList().Length);\n",
    "    }\n",
    "}\n",
    "public class Hello{\n",
    "\n",
    "    public static void hello(){\n",
    "\n",
    "        Console.WriteLine(\"Hello!\");\n",
    "    }\n",
    "}\n",
    "\n",
    "DTester tester = new DTester();\n",
    "tester.Functions += new Action(Hello.hello);\n",
    "//tester.Functions -= new Action(DTester.TestFunc1);\n",
    "tester.Functions();"
   ]
  },
  {
   "cell_type": "markdown",
   "id": "24ef8046",
   "metadata": {},
   "source": []
  }
 ],
 "metadata": {
  "kernelspec": {
   "display_name": ".NET (C#)",
   "language": "C#",
   "name": ".net-csharp"
  },
  "language_info": {
   "file_extension": ".cs",
   "mimetype": "text/x-csharp",
   "name": "C#",
   "pygments_lexer": "csharp",
   "version": "11.0"
  },
  "polyglot_notebook": {
   "kernelInfo": {
    "defaultKernelName": "csharp",
    "items": [
     {
      "aliases": [],
      "name": "csharp"
     }
    ]
   }
  }
 },
 "nbformat": 4,
 "nbformat_minor": 5
}
