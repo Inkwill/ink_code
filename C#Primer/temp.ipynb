{
 "cells": [
  {
   "cell_type": "code",
   "execution_count": 10,
   "id": "423a5425-c74b-4e45-b217-45a07f30b854",
   "metadata": {},
   "outputs": [
    {
     "name": "stdout",
     "output_type": "stream",
     "text": [
      "1000:3e8:3E8:1111101000:1750\n"
     ]
    }
   ],
   "source": [
    "System.Console.WriteLine(\"{0}:{0:x}:{0:X}:{1}:{2}\",1000,System.Convert.ToString(1000,2),System.Convert.ToString(1000,8))"
   ]
  },
  {
   "cell_type": "code",
   "execution_count": 12,
   "id": "ce5bc166-619e-4037-b7d7-7761ed044a5a",
   "metadata": {},
   "outputs": [
    {
     "name": "stderr",
     "output_type": "stream",
     "text": [
      "\n",
      "(2,1): error CS0200: 无法为属性或索引器“string.this[int]”赋值 - 它是只读的\n",
      "\n"
     ]
    },
    {
     "ename": "Cell not executed",
     "evalue": "compilation error",
     "output_type": "error",
     "traceback": []
    }
   ],
   "source": [
    "string str = \"akdfjaoek, fasdifa,, a;dkfj \";\n",
    "str[1] = 1"
   ]
  },
  {
   "cell_type": "code",
   "execution_count": null,
   "id": "cd421c26-c3e3-493e-982f-d9f37caca71d",
   "metadata": {},
   "outputs": [],
   "source": []
  }
 ],
 "metadata": {
  "kernelspec": {
   "display_name": ".NET (C#)",
   "language": "C#",
   "name": ".net-csharp"
  },
  "language_info": {
   "file_extension": ".cs",
   "mimetype": "text/x-csharp",
   "name": "C#",
   "pygments_lexer": "csharp",
   "version": "10.0"
  }
 },
 "nbformat": 4,
 "nbformat_minor": 5
}
